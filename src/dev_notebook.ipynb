{
 "cells": [
  {
   "cell_type": "code",
   "execution_count": 1,
   "id": "aed07622",
   "metadata": {},
   "outputs": [],
   "source": [
    "import pandas as pd"
   ]
  },
  {
   "cell_type": "code",
   "execution_count": 37,
   "id": "08daf2ad",
   "metadata": {},
   "outputs": [],
   "source": [
    "import numpy as np\n",
    "import numpy_financial as npf\n",
    "import random\n",
    "import math\n",
    "import arrow"
   ]
  },
  {
   "cell_type": "code",
   "execution_count": null,
   "id": "accb2436",
   "metadata": {},
   "outputs": [],
   "source": [
    "channel_prop = {'free':0.8, 'paid':0.2}\n",
    "channel_cost = {'free':0.0, 'paid':0.05}\n",
    "term_prop = {'36':0.7, '60':0.3}\n",
    "term_prem = {'36':0.0, '60':0.01} #reference term premium from treasury site\n",
    "fee = {'No Fees': 0, '5% fees': 0.05, '10% fees': 0.1}\n",
    "\n",
    "segment_ScoreMapping = {'f':'FICO:300-550', 'e':'FICO:550-650', 'd':'FICO:650-699',\n",
    "                'c':'FICO:700-749', 'b':'FICO:750-799', 'a':'FICO:800-850'}\n",
    "\n",
    "segment_prop = {'f':{'300-550':8.4%}, 'e':{'550-650':16.3%}, 'd':{'650-699':12.5%},\n",
    "                'c':{'700-749':16.4%}, 'b':{'750-799':23.1%}, 'a':{'800-850':23.3%}} #six segments tied to chargeoffs and prepayment rates\n",
    "chOff_mean = {'a':1%, 'b':1%, 'c':4.4%, 'd':8.9%, 'e':mean(22.5%, 15.8%), 'f':mean(28.4%, 41%)} # researchgate reference from 2000-2002\n",
    "#establish a relationship between chargeoff and prepayment rates or FICO and prepayment rates\n",
    "prepay_mean = {'a':45%, 'b':40%, 'c':35%, 'd':30%, 'e':25%, 'f':20%} # purely arbitrary\n"
   ]
  },
  {
   "cell_type": "code",
   "execution_count": 9,
   "id": "bab82601",
   "metadata": {},
   "outputs": [],
   "source": [
    "#Generating the prepayment curve and the Loss curve\n",
    "\n",
    "# Losses peak by 9 months an36 std of about 3 months for a 36 month loan = 9/36 = 0.25; var = 9 mthsq = 9/36^2 = 0.00695 \n",
    "# prepayments peak by 12 months and std by 6 months for a 36 month loan = 12/36 = 0.33; var = 9 mthsq = 36/36^2 = 0.0278\n",
    "\n",
    "# alpha = mean*((mean*(1-mean)/var)-1)\n",
    "# beta = (1-mean)*((mean*(1-mean)/var)-1)\n",
    "\n",
    "alpha_co = 0.25*((0.25*(1-0.25)/0.00695)-1)\n",
    "beta_co = (1-0.25)*((0.25*(1-0.25)/0.00695)-1)\n",
    "\n",
    "alpha_ppay = 0.33*((0.33*(1-0.33)/0.0278)-1)\n",
    "beta_ppay = (1-0.33)*((0.33*(1-0.33)/0.0278)-1)\n"
   ]
  },
  {
   "cell_type": "code",
   "execution_count": 22,
   "id": "5171fbca",
   "metadata": {},
   "outputs": [
    {
     "data": {
      "text/plain": [
       "10"
      ]
     },
     "execution_count": 22,
     "metadata": {},
     "output_type": "execute_result"
    }
   ],
   "source": [
    "#sampling from a beta distribution\n",
    "x = math.floor(36*random.betavariate(alpha_co, beta_co))\n",
    "x"
   ]
  },
  {
   "cell_type": "code",
   "execution_count": 36,
   "id": "eca0742f",
   "metadata": {},
   "outputs": [
    {
     "data": {
      "text/plain": [
       "7"
      ]
     },
     "execution_count": 36,
     "metadata": {},
     "output_type": "execute_result"
    }
   ],
   "source": [
    "y = math.floor(36*random.betavariate(alpha_ppay, beta_ppay))\n",
    "y"
   ]
  },
  {
   "cell_type": "code",
   "execution_count": null,
   "id": "7fdd1b0d",
   "metadata": {},
   "outputs": [],
   "source": [
    "class Loan:\n",
    "    '''Loan class to create loan instances. To be initilized with the following parameters:\n",
    "        1. loan_amount:float - The Original loan amount (pricipal) disbursed on the loan date.\n",
    "        2. int_rate: float - originat rate of interest applicable on the pricinpal outstanding.\n",
    "        3. fees:float - Origination fees charged at the time of origination expressed as a % of original loan amount. \n",
    "        4. term:float - The original term of the loan per schedule.\n",
    "        5. segment:str - The approx risk category of the loan. Broadly mapped to 6 FICO groups. Configurable via config.yaml for categories'\n",
    "        6. channel:str - Indicator variable to identify if the loan was booked through a free channel or a paid channel.\n",
    "        7. loan_dt:str - Date of loan disbursement.\n",
    "        8. freq:str - Frequency of repayment. Monthly, Quarterly etc. Valid values can be accessed via the class variable loan.valid_pmt_freq\n",
    "        \n",
    "        '''\n",
    "\n",
    "    \n",
    "    \n",
    "    valid_pmt_freq = {'W':'Weekly payments', '2W':'Fortnightly payments', 'M':'Monthly payments', 'BM':'Bi-monthly payments',\n",
    "                  'Q':'Quarterly payments', 'H':'Semi-annual payments', 'Y':'Annual payments'}\n",
    "    freq_offset = {'W':pd.DateOffset('days':7, 'months':0), '2W':pd.DateOffset('days':14, 'months':0), \n",
    "               'M':{'days':0, 'months':1}, 'BM':{'days':0, 'months':2}, 'Q':'Q', 'H':'2Q', 'Y':'Y'}\n",
    "    period_offset = {'W':7.0/30, '2W':14.0/30, 'M':1, 'BM':2, 'Q':3, 'H':6, 'Y':12}\n",
    "    \n",
    "    def __init__(loan_amt:float, int_rate:float, fees:float, term:float,\n",
    "                 segment:str, channel:str, loan_dt:str, freq:str = 'M'):\n",
    "        self.loan_amt = loan_amt\n",
    "        self.int_rate = int_rate\n",
    "        self.fees = fees\n",
    "        self.term = term\n",
    "        self.segment = segment\n",
    "        self.channel = channel\n",
    "        self.loan_dt = arrow.get(loan_dt)\n",
    "        self.freq = freq\n",
    "        self._offset = freq_offset[self.freq]\n",
    "        self._periods = math.ceil(self.term/period_offset[self.freq]\n",
    "        \n",
    "    def get_CFschedule(self) -> pd.DataFrame:\n",
    "        '''Method to get the original scheduled of cashflows for a given loan. \n",
    "        For monthly frequency (most common), it assumes that the dues date are \n",
    "        on the same day of the month every month.\n",
    "        ------------------Usage--------------------\n",
    "        loan.get_schedule()'''\n",
    "        df = pd.DataFrame()\n",
    "        df['dates'] = pd.Series(pd.date_range(self.loan_dt, freq = self._offset, periods = self._periods))\n",
    "        df['opening_principal'] = self.loan_amt\n",
    "    \n",
    "    @property                              \n",
    "    def OrgWAL(self):\n",
    "        _cfs = self.getCFchedule()\n",
    "        wal = sum((_cfs['opening_pricipal'] - _cfs['closing_pricipal'])*_cfs['period'])/self.loan_amt\n",
    "                                  \n",
    "        \n",
    "                                 \n",
    "        \n",
    "        "
   ]
  },
  {
   "cell_type": "code",
   "execution_count": null,
   "id": "168e7aea",
   "metadata": {},
   "outputs": [],
   "source": []
  }
 ],
 "metadata": {
  "kernelspec": {
   "display_name": "pyloans-py3.10",
   "language": "python",
   "name": "pyloans-py3.10"
  },
  "language_info": {
   "codemirror_mode": {
    "name": "ipython",
    "version": 3
   },
   "file_extension": ".py",
   "mimetype": "text/x-python",
   "name": "python",
   "nbconvert_exporter": "python",
   "pygments_lexer": "ipython3",
   "version": "3.10.6"
  }
 },
 "nbformat": 4,
 "nbformat_minor": 5
}
